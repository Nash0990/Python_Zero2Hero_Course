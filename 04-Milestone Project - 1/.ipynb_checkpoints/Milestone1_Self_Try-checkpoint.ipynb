{
 "cells": [
  {
   "cell_type": "markdown",
   "metadata": {},
   "source": [
    "## Tic Tac Toe\n"
   ]
  },
  {
   "cell_type": "markdown",
   "metadata": {},
   "source": [
    "1. Ask user to choose X or O\n",
    "2. print out the grid\n",
    "3. set up 3*3 grid as a list\n",
    "4. append list based on entries by player\n",
    "5. add winning statements"
   ]
  },
  {
   "cell_type": "code",
   "execution_count": 30,
   "metadata": {},
   "outputs": [
    {
     "name": "stdout",
     "output_type": "stream",
     "text": [
      "Please pick a marker X or O :X\n"
     ]
    }
   ],
   "source": [
    "global player1\n",
    "global player2\n",
    "\n",
    "def ChooseMark():\n",
    "    player1 = input(\"Please pick a marker X or O :\")\n",
    "    if player1 == \"O\":\n",
    "        player2 = \"X\"\n",
    "    elif player1 == \"X\":\n",
    "        player2 = \"O\"\n",
    "\n",
    "ChooseMark()"
   ]
  },
  {
   "cell_type": "code",
   "execution_count": 31,
   "metadata": {},
   "outputs": [
    {
     "name": "stdout",
     "output_type": "stream",
     "text": [
      "Player1 is X and Player2 is O\n"
     ]
    }
   ],
   "source": [
    "#grid = [\"#\",\" \",\" \",\" \",\" \",\" \",\" \",\" \",\" \",\" \"]\n",
    "#print(f\"\\n    |    |    \\n {grid[7]}  | {grid[8]}  | {grid[9]}  \\n    |    |    \\n--------------\\n    |    |    \\n {grid[4]}  | {grid[5]}  | {grid[6]}  \\n    |    |    \\n--------------\\n    |    |    \\n {grid[1]}  | {grid[2]}  | {grid[3]}  \\n    |    |    \\n\")\n",
    "\n",
    "print(f'Player1 is {player1} and Player2 is {player2}')"
   ]
  },
  {
   "cell_type": "code",
   "execution_count": 29,
   "metadata": {},
   "outputs": [],
   "source": [
    "from IPython.display import clear_output\n",
    "    "
   ]
  },
  {
   "cell_type": "code",
   "execution_count": null,
   "metadata": {},
   "outputs": [],
   "source": [
    "game = 'NotOver'\n",
    "count = 0\n",
    "\n",
    "while game == 'NotOver' and count <9:\n",
    "    "
   ]
  }
 ],
 "metadata": {
  "kernelspec": {
   "display_name": "Python 3",
   "language": "python",
   "name": "python3"
  },
  "language_info": {
   "codemirror_mode": {
    "name": "ipython",
    "version": 3
   },
   "file_extension": ".py",
   "mimetype": "text/x-python",
   "name": "python",
   "nbconvert_exporter": "python",
   "pygments_lexer": "ipython3",
   "version": "3.7.3"
  }
 },
 "nbformat": 4,
 "nbformat_minor": 2
}
